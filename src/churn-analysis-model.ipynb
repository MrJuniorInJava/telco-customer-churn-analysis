{
  "cells": [
    {
      "cell_type": "code",
      "execution_count": null,
      "id": "2dd97a63-6a99-4849-8fbe-d3a44e35404a",
      "metadata": {
        "trusted": true
      },
      "outputs": [],
      "source": [
        "# Импортируем все необходимые зависимости\n",
        "import pandas as pd\n",
        "import numpy as np\n",
        "import matplotlib.pyplot as plt\n",
        "import seaborn as sns\n",
        "from sklearn.model_selection import train_test_split, GridSearchCV\n",
        "from sklearn.preprocessing import StandardScaler, LabelEncoder\n",
        "from sklearn.ensemble import RandomForestClassifier, GradientBoostingClassifier\n",
        "from sklearn.linear_model import LogisticRegression\n",
        "from sklearn.metrics import accuracy_score, confusion_matrix, classification_report, roc_auc_score, roc_curve"
      ]
    },
    {
      "cell_type": "code",
      "execution_count": null,
      "id": "d23f1f72-b73c-4aa3-9d72-df8661587210",
      "metadata": {
        "trusted": true
      },
      "outputs": [],
      "source": [
        "# Загрузка данных\n",
        "df = pd.read_csv('data/content/WA_Fn-UseC_-Telco-Customer-Churn.csv')"
      ]
    },
    {
      "cell_type": "code",
      "execution_count": null,
      "id": "67c2c8d9-7443-47c5-b777-f0c57bff7cf6",
      "metadata": {
        "trusted": true
      },
      "outputs": [],
      "source": [
        "# Общая информация о датасете\n",
        "print(df.info())"
      ]
    },
    {
      "cell_type": "code",
      "execution_count": null,
      "id": "582711fb-4cda-4040-8d1c-c38d322a1847",
      "metadata": {
        "trusted": true
      },
      "outputs": [],
      "source": [
        "# Проверка наличия пропущенных значений\n",
        "df.isnull().sum()\n",
        "\n",
        "# Удаление строк с пропущенными значениями\n",
        "df.dropna(inplace=True)"
      ]
    },
    {
      "cell_type": "code",
      "execution_count": null,
      "id": "9dd71632-244e-44e9-b502-20a7335f38bd",
      "metadata": {
        "trusted": true
      },
      "outputs": [],
      "source": [
        "# Удаление строк с пропущенными значениями в столбце TotalCharges\n",
        "df = df[df['TotalCharges'] != ' ']\n",
        "df['TotalCharges'] = df['TotalCharges'].astype(float)"
      ]
    },
    {
      "cell_type": "code",
      "execution_count": null,
      "id": "000d081b-6020-4100-88ff-48ab819f4b80",
      "metadata": {
        "trusted": true
      },
      "outputs": [],
      "source": [
        "# Преобразование категориальных признаков в числовые\n",
        "label_encoder = LabelEncoder()\n",
        "for column in df.select_dtypes(include=['object']).columns:\n",
        "    if column != 'customerID':\n",
        "        df[column] = label_encoder.fit_transform(df[column])"
      ]
    },
    {
      "cell_type": "code",
      "execution_count": null,
      "id": "2ed53198-51fd-4d03-96db-e2b13424e4b4",
      "metadata": {
        "trusted": true
      },
      "outputs": [],
      "source": [
        "# Удаляем столбец customerID перед масштабированием\n",
        "df = df.drop(['customerID'], axis=1)\n",
        "\n",
        "# Масштабируем числовые признаки\n",
        "scaler = StandardScaler()\n",
        "numerical_features = ['tenure', 'MonthlyCharges', 'TotalCharges']\n",
        "df[numerical_features] = scaler.fit_transform(df[numerical_features])"
      ]
    },
    {
      "cell_type": "code",
      "execution_count": null,
      "id": "3dd38c2f-820e-4b54-b0d2-256175436f43",
      "metadata": {
        "trusted": true
      },
      "outputs": [],
      "source": [
        "# Разделение данынй на обучающую и тестовую выборки\n",
        "y = df['Churn']\n",
        "X = df.drop('Churn', axis=1)\n",
        "\n",
        "X_train, X_test, y_train, y_test = train_test_split(X, y, test_size=0.2, random_state=42)"
      ]
    },
    {
      "cell_type": "markdown",
      "id": "1412d265-ab10-4fe5-8316-2ddeae01e249",
      "metadata": {},
      "source": [
        "## Тренировка на тренирочных данных разных моделей и выбор оптимальной"
      ]
    },
    {
      "cell_type": "code",
      "execution_count": null,
      "id": "bc55b819-043a-49ef-9a68-bd6676a44888",
      "metadata": {
        "trusted": true
      },
      "outputs": [],
      "source": [
        "# Обучение модели случайного леса\n",
        "rf_model = RandomForestClassifier(random_state=42)\n",
        "rf_model.fit(X_train, y_train)\n",
        "# Предсказание на тестовых данных\n",
        "y_pred_rf = rf_model.predict(X_test)\n",
        "\n",
        "# Обучение модели логистической регрессии\n",
        "lr_model = LogisticRegression(random_state=42, max_iter=1000)\n",
        "lr_model.fit(X_train, y_train)\n",
        "# Предсказание на тестовых данных\n",
        "y_pred_lr = lr_model.predict(X_test)\n",
        "\n",
        "# Обучение модели градиентного бустинга\n",
        "gb_model = GradientBoostingClassifier(random_state=42)\n",
        "gb_model.fit(X_train, y_train)\n",
        "# Предсказание на тестовых данных\n",
        "y_pred_gb = gb_model.predict(X_test)"
      ]
    },
    {
      "cell_type": "markdown",
      "id": "f494ac3c-6292-41c0-8f76-0bc32b9dc6d7",
      "metadata": {},
      "source": [
        "## Оценка точности моделей"
      ]
    },
    {
      "cell_type": "code",
      "execution_count": null,
      "id": "c8b12ad5-64a1-42bb-a101-1694f28f44fb",
      "metadata": {
        "trusted": true
      },
      "outputs": [],
      "source": [
        "# Оценка точности случайного леса\n",
        "accuracy_rf = accuracy_score(y_test, y_pred_rf)\n",
        "print(f\"Random Forest Accuracy: {accuracy_rf}\")\n",
        "# Оценка точности логистической регрессии\n",
        "accuracy_lr = accuracy_score(y_test, y_pred_lr)\n",
        "print(f\"Logistic Regression Accuracy: {accuracy_lr}\")\n",
        "# Оценка точности градиентного бустинга\n",
        "accuracy_gb = accuracy_score(y_test, y_pred_gb)\n",
        "print(f\"Gradient Boosting Accuracy: {accuracy_gb}\")"
      ]
    },
    {
      "cell_type": "markdown",
      "id": "25a852f3-f1f6-44f1-a013-6c401b735bdb",
      "metadata": {},
      "source": [
        "Исходя из точности моделей, выберем Градиентный бустинг, так как он показал наилучший результат на тестовой выборке"
      ]
    },
    {
      "cell_type": "markdown",
      "id": "cbd48a2c-36a9-4b1f-8e35-e8b0a184feca",
      "metadata": {},
      "source": [
        "## Определение гиперпараметров для выбранной модели"
      ]
    },
    {
      "cell_type": "code",
      "execution_count": null,
      "id": "7bd0c909-4ad1-4b38-bade-01060c041eb8",
      "metadata": {
        "trusted": true
      },
      "outputs": [],
      "source": [
        "# Определение параметров для GridSearchCV\n",
        "param_grid = {\n",
        "    'n_estimators': [100, 200, 300],\n",
        "    'learning_rate': [0.01, 0.1, 0.05],\n",
        "    'max_depth': [3, 4, 5],\n",
        "    'subsample': [0.8, 0.9, 1.0],\n",
        "    'min_samples_split': [2, 5, 10]\n",
        "}\n",
        "# Инициализация GridSearchCV\n",
        "grid_search = GridSearchCV(estimator=gb_model, param_grid=param_grid, cv=5, n_jobs=-1, verbose=2, scoring='accuracy')\n",
        "\n",
        "# Обучение модели с подбором гиперпараметров\n",
        "grid_search.fit(X_train, y_train)\n",
        "\n",
        "# Вывод наилучших параметров\n",
        "print(\"Best parameters found: \", grid_search.best_params_)\n",
        "\n",
        "# Оценка модели с лучшими параметрами\n",
        "best_model = grid_search.best_estimator_\n",
        "y_pred = best_model.predict(X_test)\n",
        "\n",
        "accuracy = accuracy_score(y_test, y_pred)\n",
        "print(f\"Accuracy: {accuracy}\")"
      ]
    },
    {
      "cell_type": "markdown",
      "id": "f5508509",
      "metadata": {},
      "source": [
        "## Построение матрицы ошибок и ROC-кривой для выбранной модели на основе работы с тестовыми данными"
      ]
    },
    {
      "cell_type": "code",
      "execution_count": null,
      "id": "575208f4-7499-4b86-8a84-9b55877ec070",
      "metadata": {
        "trusted": true
      },
      "outputs": [],
      "source": [
        "# Матрица ошибок\n",
        "conf_matrix = confusion_matrix(y_test, y_pred)\n",
        "\n",
        "# Визуализация матрицы ошибок\n",
        "sns.heatmap(conf_matrix, annot=True, fmt='d', cmap='Blues', xticklabels=['Predicted No Churn', 'Predicted Churn'], yticklabels=['Actual No Churn', 'Actual Churn'])\n",
        "plt.xlabel('Predicted')\n",
        "plt.ylabel('Actual')\n",
        "plt.title('Confusion Matrix')\n",
        "plt.show()\n",
        "\n",
        "# Отчет о классификации\n",
        "print(classification_report(y_test, y_pred))\n",
        "\n",
        "# ROC-AUC кривая\n",
        "y_pred_prob = best_model.predict_proba(X_test)[:, 1]\n",
        "roc_auc = roc_auc_score(y_test, y_pred_prob)\n",
        "fpr, tpr, thresholds = roc_curve(y_test, y_pred_prob)\n",
        "\n",
        "plt.plot(fpr, tpr, label=f'ROC curve (area = {roc_auc:.2f})')\n",
        "plt.plot([0, 1], [0, 1], 'k--')\n",
        "plt.xlabel('False Positive Rate')\n",
        "plt.ylabel('True Positive Rate')\n",
        "plt.title('ROC Curve')\n",
        "plt.legend(loc='best')\n",
        "plt.show()\n"
      ]
    },
    {
      "cell_type": "markdown",
      "id": "e810b8a9",
      "metadata": {},
      "source": [
        "## Построение диаграммы важности признаков"
      ]
    },
    {
      "cell_type": "code",
      "execution_count": null,
      "id": "5dff093c",
      "metadata": {},
      "outputs": [],
      "source": [
        "# Важность признаков\n",
        "importances = best_model.feature_importances_\n",
        "features = X.columns\n",
        "indices = np.argsort(importances)[::-1]\n",
        "\n",
        "plt.figure(figsize=(10, 6))\n",
        "plt.title(\"Feature Importances\")\n",
        "plt.bar(range(X.shape[1]), importances[indices], align=\"center\")\n",
        "plt.xticks(range(X.shape[1]), features[indices], rotation=90)\n",
        "plt.show()"
      ]
    }
  ],
  "metadata": {
    "kernelspec": {
      "display_name": "Python (Pyodide)",
      "language": "python",
      "name": "python"
    },
    "language_info": {
      "codemirror_mode": {
        "name": "python",
        "version": 3
      },
      "file_extension": ".py",
      "mimetype": "text/x-python",
      "name": "python",
      "nbconvert_exporter": "python",
      "pygments_lexer": "ipython3",
      "version": "3.8"
    }
  },
  "nbformat": 4,
  "nbformat_minor": 5
}
